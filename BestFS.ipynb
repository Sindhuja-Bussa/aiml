{
  "nbformat": 4,
  "nbformat_minor": 0,
  "metadata": {
    "colab": {
      "provenance": []
    },
    "kernelspec": {
      "name": "python3",
      "display_name": "Python 3"
    },
    "language_info": {
      "name": "python"
    }
  },
  "cells": [
    {
      "cell_type": "code",
      "source": [
        "import numpy as np  # Importing numpy for any potential numerical operations (not used directly here)\n",
        "from queue import Queue  # Importing Queue to use for the BFS implementation\n",
        "import heapq  # Importing heapq for priority queue implementation"
      ],
      "metadata": {
        "id": "UsG-6NOn6Fm8"
      },
      "execution_count": 16,
      "outputs": []
    },
    {
      "cell_type": "code",
      "source": [
        "def bestFirstSearch(initial_state, goal_state, evaluation_function):\n",
        "    priority_queue = []\n",
        "    heapq.heappush(priority_queue, (evaluation_function(initial_state), initial_state))\n",
        "\n",
        "    while priority_queue:\n",
        "        current_state = heapq.heappop(priority_queue)[1] # Pop the state with the highest priority\n",
        "\n",
        "        if current_state == goal_state:\n",
        "            return current_state\n",
        "\n",
        "        next_states = generateNextStates(current_state) # Generate all possible next states from the current state\n",
        "        for next_state in next_states:\n",
        "            priority_value = evaluation_function(next_state) #Calculate the priority value of the next state using the evaluation function\n",
        "            heapq.heappush(priority_queue, (priority_value, next_state))\n",
        "\n",
        "    return \"No solution found\" # If the goal state is not found, return a message indicating no solution\n",
        "\n",
        "def evaluationFunction(state):\n",
        "    # Calculate the priority value based on the Manhattan distance between the current state and the goal state\n",
        "    # Manhattan distance is the sum of the absolute differences in the x and y coordinates\n",
        "    return abs(state[0] - goal_state[0]) + abs(state[1] - goal_state[1])\n",
        "\n",
        "def generateNextStates(state):\n",
        "    # Generate all possible next states from the current state\n",
        "    x, y = state\n",
        "    # Generate the next possible states by moving in each of the four directions (up, down, left, right)\n",
        "    next_states = [(x+1, y), (x-1, y), (x, y+1), (x, y-1)]\n",
        "    return [s for s in next_states if 0 <= s[0] <= 4 and 0 <= s[1] <= 4]\n",
        "    # Filter out any states that go outside the 5x5 grid (only include valid states)\n",
        "\n",
        "initial_state = (0, 0)  # Start point\n",
        "goal_state = (4, 4)     # Goal point\n",
        "\n",
        "solution = bestFirstSearch(initial_state, goal_state, evaluationFunction)\n",
        "print(\"Solution:\", solution)"
      ],
      "metadata": {
        "colab": {
          "base_uri": "https://localhost:8080/"
        },
        "id": "Qw2A1KTF4kAN",
        "outputId": "e2dec46a-33fd-4aad-ab02-ff48fb9919ca"
      },
      "execution_count": 17,
      "outputs": [
        {
          "output_type": "stream",
          "name": "stdout",
          "text": [
            "Solution: (4, 4)\n"
          ]
        }
      ]
    },
    {
      "cell_type": "code",
      "source": [],
      "metadata": {
        "id": "syFnec-G6P6S"
      },
      "execution_count": null,
      "outputs": []
    }
  ]
}